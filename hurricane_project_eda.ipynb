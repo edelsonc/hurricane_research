{
 "cells": [
  {
   "cell_type": "markdown",
   "metadata": {},
   "source": [
    "# Hurricane Research: EDA\n",
    "This notebook will perform some intital EDA on the hurricane assignment from stats\n",
    "\n",
    "Data is from http://weather.unisys.com/hurricane/atlantic/index.php, and is the year 2010 best of."
   ]
  },
  {
   "cell_type": "code",
   "execution_count": 63,
   "metadata": {
    "collapsed": true
   },
   "outputs": [],
   "source": [
    "import numpy\n",
    "import pandas\n",
    "import seaborn\n",
    "from datetime import datetime\n",
    "from matplotlib import pyplot\n",
    "from statsmodels.tsa.arima_model import ARIMA, ARIMAResults"
   ]
  },
  {
   "cell_type": "markdown",
   "metadata": {},
   "source": [
    "Data is imported as a no-header csv, and the column names are added"
   ]
  },
  {
   "cell_type": "code",
   "execution_count": 3,
   "metadata": {
    "collapsed": false
   },
   "outputs": [
    {
     "data": {
      "text/plain": [
       "(5066, 10)"
      ]
     },
     "execution_count": 3,
     "metadata": {},
     "output_type": "execute_result"
    }
   ],
   "source": [
    "hurricane_raw = pandas.read_csv(\"hurricane.csv\", header=None)\n",
    "hurricane_raw.columns = [\n",
    "                        'year', 'month', 'day', \n",
    "                        'hour', 'storm_year_id',\n",
    "                        'name', 'latitude', 'longitude',\n",
    "                        'wind_speed', 'pressure'\n",
    "                        ]\n",
    "hurricane_raw.shape"
   ]
  },
  {
   "cell_type": "code",
   "execution_count": 4,
   "metadata": {
    "collapsed": false
   },
   "outputs": [
    {
     "data": {
      "text/html": [
       "<div>\n",
       "<table border=\"1\" class=\"dataframe\">\n",
       "  <thead>\n",
       "    <tr style=\"text-align: right;\">\n",
       "      <th></th>\n",
       "      <th>year</th>\n",
       "      <th>month</th>\n",
       "      <th>day</th>\n",
       "      <th>hour</th>\n",
       "      <th>storm_year_id</th>\n",
       "      <th>name</th>\n",
       "      <th>latitude</th>\n",
       "      <th>longitude</th>\n",
       "      <th>wind_speed</th>\n",
       "      <th>pressure</th>\n",
       "    </tr>\n",
       "  </thead>\n",
       "  <tbody>\n",
       "    <tr>\n",
       "      <th>0</th>\n",
       "      <td>2000</td>\n",
       "      <td>6</td>\n",
       "      <td>7</td>\n",
       "      <td>18</td>\n",
       "      <td>1</td>\n",
       "      <td>NOT_NAMED</td>\n",
       "      <td>21.0</td>\n",
       "      <td>-93.0</td>\n",
       "      <td>25</td>\n",
       "      <td>0</td>\n",
       "    </tr>\n",
       "    <tr>\n",
       "      <th>1</th>\n",
       "      <td>2000</td>\n",
       "      <td>6</td>\n",
       "      <td>8</td>\n",
       "      <td>0</td>\n",
       "      <td>1</td>\n",
       "      <td>NOT_NAMED</td>\n",
       "      <td>20.9</td>\n",
       "      <td>-92.8</td>\n",
       "      <td>25</td>\n",
       "      <td>0</td>\n",
       "    </tr>\n",
       "    <tr>\n",
       "      <th>2</th>\n",
       "      <td>2000</td>\n",
       "      <td>6</td>\n",
       "      <td>8</td>\n",
       "      <td>6</td>\n",
       "      <td>1</td>\n",
       "      <td>NOT_NAMED</td>\n",
       "      <td>20.7</td>\n",
       "      <td>-93.1</td>\n",
       "      <td>25</td>\n",
       "      <td>0</td>\n",
       "    </tr>\n",
       "    <tr>\n",
       "      <th>3</th>\n",
       "      <td>2000</td>\n",
       "      <td>6</td>\n",
       "      <td>8</td>\n",
       "      <td>12</td>\n",
       "      <td>1</td>\n",
       "      <td>NOT_NAMED</td>\n",
       "      <td>20.8</td>\n",
       "      <td>-93.5</td>\n",
       "      <td>25</td>\n",
       "      <td>0</td>\n",
       "    </tr>\n",
       "    <tr>\n",
       "      <th>4</th>\n",
       "      <td>2000</td>\n",
       "      <td>6</td>\n",
       "      <td>23</td>\n",
       "      <td>0</td>\n",
       "      <td>2</td>\n",
       "      <td>NOT_NAMED</td>\n",
       "      <td>9.5</td>\n",
       "      <td>-19.8</td>\n",
       "      <td>25</td>\n",
       "      <td>0</td>\n",
       "    </tr>\n",
       "  </tbody>\n",
       "</table>\n",
       "</div>"
      ],
      "text/plain": [
       "   year  month  day  hour  storm_year_id       name  latitude  longitude  \\\n",
       "0  2000      6    7    18              1  NOT_NAMED      21.0      -93.0   \n",
       "1  2000      6    8     0              1  NOT_NAMED      20.9      -92.8   \n",
       "2  2000      6    8     6              1  NOT_NAMED      20.7      -93.1   \n",
       "3  2000      6    8    12              1  NOT_NAMED      20.8      -93.5   \n",
       "4  2000      6   23     0              2  NOT_NAMED       9.5      -19.8   \n",
       "\n",
       "   wind_speed  pressure  \n",
       "0          25         0  \n",
       "1          25         0  \n",
       "2          25         0  \n",
       "3          25         0  \n",
       "4          25         0  "
      ]
     },
     "execution_count": 4,
     "metadata": {},
     "output_type": "execute_result"
    }
   ],
   "source": [
    "hurricane_raw.head()"
   ]
  },
  {
   "cell_type": "markdown",
   "metadata": {},
   "source": [
    "We wish to look at only named storms, so we'll filter on that"
   ]
  },
  {
   "cell_type": "code",
   "execution_count": 5,
   "metadata": {
    "collapsed": false
   },
   "outputs": [
    {
     "data": {
      "text/plain": [
       "(4924, 10)"
      ]
     },
     "execution_count": 5,
     "metadata": {},
     "output_type": "execute_result"
    }
   ],
   "source": [
    "has_name = hurricane_raw.name != \"NOT_NAMED\"\n",
    "named = hurricane_raw[has_name]\n",
    "named.shape"
   ]
  },
  {
   "cell_type": "code",
   "execution_count": 28,
   "metadata": {
    "collapsed": false
   },
   "outputs": [],
   "source": [
    "storm_matrix = named.get_values()\n",
    "storm_dict = {}\n",
    "for row in storm_matrix:\n",
    "    key = row[5] + str(row[0]) \n",
    "    if key not in storm_dict:\n",
    "        storm_dict[key] = []\n",
    "    date = row[:4]\n",
    "    data = row[6:]\n",
    "\n",
    "    storm_dict[key].append(numpy.append(date, data))"
   ]
  },
  {
   "cell_type": "markdown",
   "metadata": {},
   "source": [
    "`storm_dict` is now a dictonary, where each entry is an individual storm"
   ]
  },
  {
   "cell_type": "code",
   "execution_count": 7,
   "metadata": {
    "collapsed": true
   },
   "outputs": [],
   "source": [
    "def poly_want_a_storm(storm, degree=2, idx=0):\n",
    "    \"\"\"\n",
    "    Fit a polynomial of regression to a single storm\n",
    "\n",
    "    Arguments\n",
    "    ---------\n",
    "    storm -- a single storm from the storm dict. An array of small arrays\n",
    "    degree -- polynomial degree; default of 2\n",
    "    idx -- index of the miniarrays that is being fit\n",
    "    \"\"\"\n",
    "    y = []\n",
    "    x = []\n",
    "    for i, time in enumerate(storm):\n",
    "        y.append(i)\n",
    "        x.append(time[idx])\n",
    "    \n",
    "    coeff = numpy.polyfit(y,x,degree)\n",
    "\n",
    "    return coeff"
   ]
  },
  {
   "cell_type": "markdown",
   "metadata": {},
   "source": [
    "Now we'll check to see if the function works."
   ]
  },
  {
   "cell_type": "code",
   "execution_count": 8,
   "metadata": {
    "collapsed": false
   },
   "outputs": [
    {
     "data": {
      "text/plain": [
       "array([ -1.58107632e-02,   1.34632985e+00,   4.43592159e+01])"
      ]
     },
     "execution_count": 8,
     "metadata": {},
     "output_type": "execute_result"
    }
   ],
   "source": [
    "poly_want_a_storm(storm_dict[\"ALBERTO2000\"], idx=2)"
   ]
  },
  {
   "cell_type": "markdown",
   "metadata": {},
   "source": [
    "It appears to produce the correct results. Now we can apply it to the entire data set and collect the coefficients."
   ]
  },
  {
   "cell_type": "code",
   "execution_count": 9,
   "metadata": {
    "collapsed": true
   },
   "outputs": [],
   "source": [
    "coeffs = []\n",
    "for k, v in storm_dict.items():\n",
    "    c = poly_want_a_storm(v, degree=2, idx=2)\n",
    "    coeffs.append(c)\n",
    "\n",
    "coeffs = numpy.array(coeffs)"
   ]
  },
  {
   "cell_type": "code",
   "execution_count": 10,
   "metadata": {
    "collapsed": false
   },
   "outputs": [
    {
     "data": {
      "image/png": "[encoded data removed]",
      "text/plain": [
       "<matplotlib.figure.Figure at 0x10abb3fd0>"
      ]
     },
     "metadata": {},
     "output_type": "display_data"
    }
   ],
   "source": [
    "%matplotlib inline\n",
    "deg = 2\n",
    "nbin = 50\n",
    "\n",
    "fig, axes = pyplot.subplots(3)\n",
    "i = 0\n",
    "for ax in axes:\n",
    "        ax.hist(coeffs[:,i], nbin)\n",
    "        ax.set_title(\"Coefficient of $x^{}$\".format(deg - i))\n",
    "        i += 1\n",
    "fig.tight_layout()"
   ]
  },
  {
   "cell_type": "code",
   "execution_count": 11,
   "metadata": {
    "collapsed": false
   },
   "outputs": [],
   "source": [
    "coeffs = []\n",
    "for k, v in storm_dict.items():\n",
    "    c = poly_want_a_storm(v, degree=3, idx=2)\n",
    "    coeffs.append(c)\n",
    "\n",
    "coeffs = numpy.array(coeffs)"
   ]
  },
  {
   "cell_type": "code",
   "execution_count": 12,
   "metadata": {
    "collapsed": false
   },
   "outputs": [
    {
     "data": {
      "image/png": "[encoded data removed]",
      "text/plain": [
       "<matplotlib.figure.Figure at 0x111e8c4a8>"
      ]
     },
     "metadata": {},
     "output_type": "display_data"
    }
   ],
   "source": [
    "rows = 2\n",
    "cols = 2\n",
    "deg = 3\n",
    "nbin = 50\n",
    "\n",
    "fig, axes = pyplot.subplots(rows,cols)\n",
    "i = 0\n",
    "for row in axes:\n",
    "    for ax in row:\n",
    "        ax.hist(coeffs[:,i], nbin)\n",
    "        ax.set_title(\"Coefficient of $x^{}$\".format(deg - i))\n",
    "        i += 1\n",
    "fig.tight_layout()"
   ]
  },
  {
   "cell_type": "markdown",
   "metadata": {},
   "source": [
    "# Time Series and ARIMA Model"
   ]
  },
  {
   "cell_type": "code",
   "execution_count": 32,
   "metadata": {
    "collapsed": true
   },
   "outputs": [],
   "source": [
    "def date_convert(array):\n",
    "    return datetime(*array)\n",
    "\n",
    "def generate_ts(storm):\n",
    "    \"\"\"\n",
    "    Arguments\n",
    "    ---------\n",
    "    storm -- single storm from storm_dict\n",
    "    \"\"\"\n",
    "    "
   ]
  },
  {
   "cell_type": "code",
   "execution_count": 87,
   "metadata": {
    "collapsed": false
   },
   "outputs": [],
   "source": [
    "test_storm = storm_dict[\"ALBERTO2000\"]\n",
    "times = [date_convert(x[:4]) for x in test_storm]\n",
    "\n",
    "wind = [ float(x[6]) for x in test_storm]\n",
    "ts = pandas.Series(wind, times).interpolate(method='time')"
   ]
  },
  {
   "cell_type": "code",
   "execution_count": 121,
   "metadata": {
    "collapsed": false
   },
   "outputs": [
    {
     "data": {
      "text/plain": [
       "483.441409091473"
      ]
     },
     "execution_count": 121,
     "metadata": {},
     "output_type": "execute_result"
    }
   ],
   "source": [
    "arima = ARIMA(ts, (1,2,2)).fit()\n",
    "arima.aic"
   ]
  },
  {
   "cell_type": "code",
   "execution_count": 131,
   "metadata": {
    "collapsed": false
   },
   "outputs": [],
   "source": [
    "def get_aic(ts, pdq):\n",
    "    model = ARIMA(ts, pdq).fit()\n",
    "    return model.aic\n",
    "\n",
    "\n",
    "def auto_arima(ts, order):\n",
    "    p = list(range(order[0] + 1))\n",
    "    d = list(range(order[1] + 1))\n",
    "    q = list(range(order[2] + 1))\n",
    "\n",
    "    combinations = []\n",
    "    for i in p:\n",
    "        for j in d:\n",
    "            for k in q:\n",
    "                combinations.append((i,j,k))\n",
    "\n",
    "    aic_min = None\n",
    "    order_min = None\n",
    "    for c in combinations:\n",
    "        try:\n",
    "            aic = get_aic(ts, c)\n",
    "            if aic_min == None or aic_min > aic:\n",
    "                aic_min = aic\n",
    "                order_min = c\n",
    "        except ValueError:\n",
    "            pass\n",
    "    \n",
    "\n",
    "    return order_min, aic   "
   ]
  },
  {
   "cell_type": "code",
   "execution_count": 132,
   "metadata": {
    "collapsed": false,
    "scrolled": false
   },
   "outputs": [
    {
     "data": {
      "text/plain": [
       "((1, 2, 2), 486.80765766740353)"
      ]
     },
     "execution_count": 132,
     "metadata": {},
     "output_type": "execute_result"
    }
   ],
   "source": [
    "auto_arima(ts, (2,2,2))"
   ]
  }
 ],
 "metadata": {
  "anaconda-cloud": {},
  "kernelspec": {
   "display_name": "Python [conda root]",
   "language": "python",
   "name": "conda-root-py"
  },
  "language_info": {
   "codemirror_mode": {
    "name": "ipython",
    "version": 3
   },
   "file_extension": ".py",
   "mimetype": "text/x-python",
   "name": "python",
   "nbconvert_exporter": "python",
   "pygments_lexer": "ipython3",
   "version": "3.5.2"
  }
 },
 "nbformat": 4,
 "nbformat_minor": 1
}
