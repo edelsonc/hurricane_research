{
 "cells": [
  {
   "cell_type": "markdown",
   "metadata": {},
   "source": [
    "# Poisson Distribution for Number of Storms\n",
    "Hurricanes are often used as the example of a poisson process in stat's 101 courses. Here we'll look at distribution for the shape parameter $\\lambda$, the number of storms per year, and update it according to the storm data provided in the \"PUT NAME HERE\" data set for named storms from 2000 to 2010.\n",
    "\n",
    "In order to do this we'll make use of Baeysian analysis. For this we'll need to compute the following:\n",
    "\n",
    "$$ P(\\lambda | \\text{Data} ) = \\frac{P( \\text{Data} | \\lambda) P(\\lambda)}{P( \\text{Data} )}. $$\n",
    "\n",
    "Here, our prior is given by $P(\\lambda)$ and our likelyhood by $P(\\text{Data} | \\lambda)$.\n",
    "\n",
    "## Prior\n",
    "Chirs, our resident storm master, has decided that 12 named storms per years sounds reasonable. I agree, since Chris is an expert after all, and we will use that as part of our prior. Therefore, since the conjugate prior to the poisson distribution is the gamma distribution, we'll use a gamma distribution centered around 12."
   ]
  },
  {
   "cell_type": "code",
   "execution_count": 1,
   "metadata": {
    "collapsed": true
   },
   "outputs": [],
   "source": [
    "import numpy\n",
    "import pandas\n",
    "from scipy.special import gamma\n",
    "from scipy.stats import poisson, nbinom\n",
    "from matplotlib import pyplot\n",
    "%matplotlib inline"
   ]
  },
  {
   "cell_type": "code",
   "execution_count": 2,
   "metadata": {
    "collapsed": true
   },
   "outputs": [],
   "source": [
    "def gamma_dist(x, alpha, beta):\n",
    "    return beta**alpha * x**(alpha - 1) * numpy.exp(-beta*x)/gamma(alpha)"
   ]
  },
  {
   "cell_type": "code",
   "execution_count": 3,
   "metadata": {},
   "outputs": [
    {
     "data": {
      "text/plain": [
       "[<matplotlib.lines.Line2D at 0xb156f550>]"
      ]
     },
     "execution_count": 3,
     "metadata": {},
     "output_type": "execute_result"
    },
    {
     "data": {
      "image/png": "[encoded data removed]",
      "text/plain": [
       "<matplotlib.figure.Figure at 0xb165f2d0>"
      ]
     },
     "metadata": {},
     "output_type": "display_data"
    }
   ],
   "source": [
    "alpha = 4\n",
    "beta = 0.25\n",
    "x = numpy.linspace(0,50,100)\n",
    "g = gamma_dist(x, alpha, beta)\n",
    "pyplot.plot(x,g)"
   ]
  },
  {
   "cell_type": "markdown",
   "metadata": {},
   "source": [
    "## Likelyhood\n",
    "With our prior distribution spared away, we now move onto the likelyhood. Here, it is the likelyhood of seeing $k$ many storms in $n$ many $\\lambda$s. As mentioned before, this is typically modeled by a poisson distribution, which is given by\n",
    "\n",
    "$$ P(k| \\lambda) = \\frac{\\lambda^k e^{-\\lambda}}{k!} $$\n",
    "\n",
    "## Computing the Posterior\n",
    "Armed with our prior and likelyhood, we're now taked with computing the posterior. However, it turns out the the gamma distribution is the [conjugate prior](https://en.m.wikipedia.org/wiki/Conjugate_prior). Thus we know that the posterior distribution is given by the negative binomial distribution \n",
    "$$ NB(k | \\alpha^\\prime, \\theta^\\prime) = {k + \\alpha^\\prime - 1 \\choose k} (1-\\theta^\\prime)^{\\alpha^\\prime} p ^ k $$\n",
    "\n",
    "where $\\alpha^\\prime$ and $\\theta$ are given by\n",
    "$$ \\alpha^\\prime = \\alpha + x$$\n",
    "$$ \\theta = \\frac{1}{1 + \\beta + n}. $$\n",
    "\n",
    "Above, $x$ is the number of storms that occur in $n$ years.\n",
    "\n",
    "## Finding the Number of Named Storms\n",
    "We finally need to load the data and look at the number of storms that occur."
   ]
  },
  {
   "cell_type": "code",
   "execution_count": 15,
   "metadata": {
    "collapsed": true
   },
   "outputs": [],
   "source": [
    "# load data and name columns\n",
    "hurricane_raw = pandas.read_csv(\"hurricane.csv\", header=None)\n",
    "hurricane_raw.columns = [\n",
    "                        'year', 'month', 'day', \n",
    "                        'hour', 'storm_year_id',\n",
    "                        'name', 'latitude', 'longitude',\n",
    "                        'wind_speed', 'pressure'\n",
    "                        ]"
   ]
  },
  {
   "cell_type": "code",
   "execution_count": 16,
   "metadata": {
    "collapsed": true
   },
   "outputs": [],
   "source": [
    "# select only named storms\n",
    "has_name = hurricane_raw.name != \"NOT_NAMED\"\n",
    "named = hurricane_raw[has_name]"
   ]
  },
  {
   "cell_type": "code",
   "execution_count": 17,
   "metadata": {
    "collapsed": true
   },
   "outputs": [],
   "source": [
    "# create a unique identifier and count the number of names and the number of years\n",
    "n_storms = len((named['name'] + named['year'].map(str)).unique())\n",
    "n_years = 10"
   ]
  },
  {
   "cell_type": "markdown",
   "metadata": {},
   "source": [
    "We're now ready to update our parameters"
   ]
  },
  {
   "cell_type": "code",
   "execution_count": 43,
   "metadata": {},
   "outputs": [
    {
     "data": {
      "text/plain": [
       "[<matplotlib.lines.Line2D at 0xafd58050>]"
      ]
     },
     "execution_count": 43,
     "metadata": {},
     "output_type": "execute_result"
    },
    {
     "data": {
      "image/png": "[encoded data removed]",
      "text/plain": [
       "<matplotlib.figure.Figure at 0xafcfe910>"
      ]
     },
     "metadata": {},
     "output_type": "display_data"
    }
   ],
   "source": [
    "alpha_p = alpha + n_storms\n",
    "beta_p= beta + n_years\n",
    "\n",
    "x = numpy.linspace(0,100,100)\n",
    "nb = gamma_dist(x, alpha_p, beta_p)\n",
    "\n",
    "pyplot.plot(x, nb)"
   ]
  }
 ],
 "metadata": {
  "kernelspec": {
   "display_name": "Python 3",
   "language": "python",
   "name": "python3"
  },
  "language_info": {
   "codemirror_mode": {
    "name": "ipython",
    "version": 3
   },
   "file_extension": ".py",
   "mimetype": "text/x-python",
   "name": "python",
   "nbconvert_exporter": "python",
   "pygments_lexer": "ipython3",
   "version": "3.6.1"
  }
 },
 "nbformat": 4,
 "nbformat_minor": 2
}
